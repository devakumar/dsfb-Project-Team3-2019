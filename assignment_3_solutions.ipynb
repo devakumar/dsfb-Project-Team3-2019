{
 "cells": [
  {
   "cell_type": "markdown",
   "metadata": {},
   "source": [
    "# DSFB Assignment 3 - Solutions"
   ]
  },
  {
   "cell_type": "markdown",
   "metadata": {},
   "source": [
    "In this assignment, you will begine to work with data to build some basic models. "
   ]
  },
  {
   "cell_type": "markdown",
   "metadata": {},
   "source": [
    "## IMPORTS\n",
    "\n",
    "Here are a bunch of libraries that you may need to use..."
   ]
  },
  {
   "cell_type": "code",
   "execution_count": 92,
   "metadata": {},
   "outputs": [],
   "source": [
    "# Standard imports\n",
    "import numpy  as np\n",
    "import pandas as pd\n",
    "\n",
    "import itertools\n",
    "import random\n",
    "import math  \n",
    "\n",
    "# Plotting\n",
    "import matplotlib.pyplot as plt\n",
    "from matplotlib.colors import ListedColormap\n",
    "import matplotlib.patches as patches\n",
    "%matplotlib inline  \n",
    "import seaborn as sns\n",
    "sns.set(style=\"white\")\n",
    "\n",
    "# ignore some warnings \n",
    "import warnings\n",
    "warnings.filterwarnings('ignore')\n",
    "\n",
    "# Set a seed for replication\n",
    "SEED = 1  # Use this anywhere a stochastic function allows you to set a seed"
   ]
  },
  {
   "cell_type": "markdown",
   "metadata": {},
   "source": [
    "# PART 1: LOGIT MODEL (without sklearn)"
   ]
  },
  {
   "cell_type": "markdown",
   "metadata": {},
   "source": [
    "Suppose we collect data for a group of students in a course with the following variables:  \n",
    "\n",
    "    X1 = hours studied  \n",
    "    X2 = undergrad GPA  \n",
    "    Y = receive a grade of 4.0  "
   ]
  },
  {
   "cell_type": "code",
   "execution_count": 93,
   "metadata": {},
   "outputs": [],
   "source": [
    "# Suppose we fit a logit model to the data above and obtain the following coefficients:\n",
    "b0 = -5\n",
    "b1 = 0.1\n",
    "b2 = 1"
   ]
  },
  {
   "cell_type": "markdown",
   "metadata": {},
   "source": [
    "**PROBLEM**: Estimate the probability that a student who studies for 40 hours, and who has an undergrad GPA of 3.0, will get a 4.0 in the class."
   ]
  },
  {
   "cell_type": "code",
   "execution_count": 94,
   "metadata": {},
   "outputs": [
    {
     "name": "stdout",
     "output_type": "stream",
     "text": [
      "The predicted probability for this case is: 0.8807970779778824\n"
     ]
    }
   ],
   "source": [
    "# Estimate the probability and print it out\n",
    "x1 = 40\n",
    "x2 = 3.0\n",
    "p = math.exp(b0 + b1*x1 + b2*x2)/(1+ math.exp(b0 + b1*x1 + b2*x2))\n",
    "print('The predicted probability for this case is:', p)"
   ]
  },
  {
   "cell_type": "markdown",
   "metadata": {},
   "source": [
    "**PROBLEM**: How many hours would a student who has an undergrad GPA of 3.0 need to study to have an 80% chance of getting a grade of 4.0 in the class? Tip: You can do all of this on paper with math. But then type it into the markdown field below to show your work. Perform the very final (reduced) calculation in python to show the answer."
   ]
  },
  {
   "cell_type": "markdown",
   "metadata": {},
   "source": [
    "Show your work here to estimate the number of hours for X1:\n",
    "\n",
    "    ln(p/(1-p) = b0 + b1*x1 + b2*x2\n",
    "    ln(0.8/0.2) = -5 + 0.1 * x1 + 3\n",
    "    ln(4) = 0.1 * x1 - 2\n",
    "    x1 = (ln(4) +2) * 10\n",
    "    x1 = 33.86\n"
   ]
  },
  {
   "cell_type": "code",
   "execution_count": 95,
   "metadata": {},
   "outputs": [
    {
     "name": "stdout",
     "output_type": "stream",
     "text": [
      "The solution for X1 in this problem is: 33.86294361119891\n"
     ]
    }
   ],
   "source": [
    "# Use python to manually calculate that value:\n",
    "x1 = (math.log(4) +2) * 10\n",
    "print('The solution for X1 in this problem is:', x1)"
   ]
  },
  {
   "cell_type": "markdown",
   "metadata": {},
   "source": [
    "**PROBLEM**: Use your solution from above (along with the estimated logit model coefficients given to you earlier) to show that the logit model would in fact predict a probability of 80%."
   ]
  },
  {
   "cell_type": "markdown",
   "metadata": {},
   "source": [
    "Show the calculation (written out, step-by-step) here:  \n",
    "\n",
    "    prob = exp(b0 + b1*x1 + b2*x2) / (1 + exp(b0 + b1*x1 + b2*x2))  \n",
    "    0.80 = exp(b0 + b1*x1 + b2*x2) / (1 + exp(b0 + b1*x1 + b2*x2))  \n",
    "    0.80 = exp(-5 + 0.1*x1 + 3) / (1 + exp(-5 + 0.1*x1 + 3))\n",
    "    0.80 = exp(0.1*x1 - 2) / (1 + exp(0.1*x1 - 2))\n",
    "    0.80 = exp(0.1*33.86 -2) / (1 + exp(0.1*33.86 -2))"
   ]
  },
  {
   "cell_type": "code",
   "execution_count": 96,
   "metadata": {},
   "outputs": [
    {
     "name": "stdout",
     "output_type": "stream",
     "text": [
      "The predicted Probability from the solution is: 0.80\n"
     ]
    }
   ],
   "source": [
    "# Use Python to perform the calculation and show the result:\n",
    "b0 = -5\n",
    "b1 = 0.1\n",
    "b2 = 1\n",
    "x1 = ( math.log(4) + 2 ) * 10\n",
    "x2 = 3.0\n",
    "\n",
    "predicted_probability = math.exp( b0 + b1*x1 + b2*x2 ) / (1 + math.exp( b0 + b1*x1 + b2*x2 ))\n",
    "print('The predicted Probability from the solution is:', \"{0:.2f}\".format(predicted_probability))"
   ]
  },
  {
   "cell_type": "markdown",
   "metadata": {},
   "source": [
    "# PART 2: PLOT ROC CURVES (without sklearn)"
   ]
  },
  {
   "cell_type": "markdown",
   "metadata": {},
   "source": [
    "Suppose you have the following labeled data: for each observation you are given a Positiveor Negative label and the predicted probability. The \"Positive\" case is labeled as 1, and the \"Negative\" case is labeled with 0. For example, an observation of (0, 0.45) means the truth value is Negative and the predicted probability of being positive is 0.45."
   ]
  },
  {
   "cell_type": "code",
   "execution_count": 97,
   "metadata": {},
   "outputs": [],
   "source": [
    "data = [\n",
    "    (1, 0.9),\n",
    "    (0, 0.8),\n",
    "    (1, 0.6),\n",
    "    (1, 0.4),\n",
    "    (0, 0.2)\n",
    "]"
   ]
  },
  {
   "cell_type": "markdown",
   "metadata": {},
   "source": [
    "**PROBLEM**: Calculate the True Positive Rate and the False Positive Rate at each observation. You may NOT use `sklearn` or any other supporting library for this problem - you must do everything in \"pure Python\". "
   ]
  },
  {
   "cell_type": "code",
   "execution_count": 98,
   "metadata": {},
   "outputs": [],
   "source": [
    "# Calculate TPR and FPR\n",
    "labels, probs   = zip(*data) \n",
    "total_positives = sum(labels)\n",
    "total_negatives = len(labels)-sum(labels)\n",
    "num_positives   = 0\n",
    "num_pos_errors  = 0\n",
    "tpr = [0, ]\n",
    "fpr = [0, ]\n",
    "\n",
    "for i in range(len(labels)):\n",
    "    if labels[i]:\n",
    "        num_positives += 1\n",
    "        tpr.append(num_positives/total_positives)\n",
    "        fpr.append(fpr[-1])\n",
    "    else:\n",
    "        num_pos_errors += 1\n",
    "        tpr.append(tpr[-1])\n",
    "        fpr.append(num_pos_errors/total_negatives)"
   ]
  },
  {
   "cell_type": "markdown",
   "metadata": {},
   "source": [
    "**PROBLEM**: Plot an ROC curve. You may NOT use `sklearn` or any other supporting library for this problem - you must do everything in \"pure Python\". "
   ]
  },
  {
   "cell_type": "code",
   "execution_count": 99,
   "metadata": {},
   "outputs": [
    {
     "data": {
      "image/png": "[encoded data removed]",
      "text/plain": [
       "<Figure size 432x288 with 1 Axes>"
      ]
     },
     "metadata": {},
     "output_type": "display_data"
    }
   ],
   "source": [
    "# Plot the ROC Curve\n",
    "fig, ax = plt.subplots()\n",
    "ax.plot(fpr, tpr, lw=2, c='red')\n",
    "ax.scatter(fpr, tpr, lw=5)\n",
    "ax.plot([0, 1], [0, 1], 'k--', lw=2)\n",
    "ax.set_xlim([-.01,1.01])\n",
    "ax.set_ylim([-.01,1.01])\n",
    "plt.show()"
   ]
  },
  {
   "cell_type": "markdown",
   "metadata": {},
   "source": [
    "# PART 3: AGGLOMERATIVE CLUSTERING (without sklearn)\n",
    "\n",
    "Suppose you have the following observations in a two-dimensional Euclidean space. Here we give you a dictionary with a label for the point, and the point in (x,y) coordinates. "
   ]
  },
  {
   "cell_type": "code",
   "execution_count": 100,
   "metadata": {},
   "outputs": [],
   "source": [
    "# Raw observations\n",
    "data   = [(1,1), (2,1), (5,1), (7,1), (1,5), (3,4), (4,5) ]\n",
    "labels = [ 'A',   'B',   'C',   'D',   'E',   'F',   'G']\n",
    "\n",
    "# Clusters of 1 observation, at lowest level\n",
    "a = [data[0], ]\n",
    "b = [data[1], ]\n",
    "c = [data[2], ]\n",
    "d = [data[3], ]\n",
    "e = [data[4], ]\n",
    "f = [data[5], ]\n",
    "g = [data[6], ]"
   ]
  },
  {
   "cell_type": "markdown",
   "metadata": {},
   "source": [
    "You may use the following function to plot the data..."
   ]
  },
  {
   "cell_type": "code",
   "execution_count": 101,
   "metadata": {},
   "outputs": [],
   "source": [
    "def plot_data(data, labels, xlim, ylim):\n",
    "    \"\"\" Function to plot a list of (x,y) coordinates, with optional lables. \n",
    "        \n",
    "        Args:  \n",
    "              data     A list of (x,y) point to plot\n",
    "              labels   A list of text labels, in same order as data.\n",
    "    \"\"\"\n",
    "    \n",
    "    fig, ax = plt.subplots()\n",
    "    for point, label in zip(data, labels):\n",
    "        ax.scatter(point[0], point[1], c='black')\n",
    "        if labels: ax.annotate(label, point, textcoords=\"offset points\", xytext=(1,10))\n",
    "    ax.set_xlim(xlim)\n",
    "    ax.set_ylim(ylim)\n",
    "    ax.grid(True)\n",
    "    return fig, ax"
   ]
  },
  {
   "cell_type": "code",
   "execution_count": 102,
   "metadata": {},
   "outputs": [
    {
     "data": {
      "image/png": "[encoded data removed]",
      "text/plain": [
       "<Figure size 432x288 with 1 Axes>"
      ]
     },
     "metadata": {},
     "output_type": "display_data"
    }
   ],
   "source": [
    "plot_data(data, labels, xlim=(0,8), ylim=(0,6))\n",
    "pass"
   ]
  },
  {
   "cell_type": "markdown",
   "metadata": {},
   "source": [
    "**PROBLEM**: Write a custom function in pure Python to calculate the Euclidean straight-line distance between any two points with (x,y) coordinates."
   ]
  },
  {
   "cell_type": "code",
   "execution_count": 103,
   "metadata": {},
   "outputs": [],
   "source": [
    "def distance(point_a, point_b):\n",
    "    \"\"\" Function to calculate and return the Euclidean straight distance between any two points with (x,y) coordinates.\n",
    "        \n",
    "        Args:  \n",
    "               point_a   (x,y) of point a\n",
    "               point_b   (x,y) of point b\n",
    "    \"\"\"\n",
    "    return math.sqrt((point_a[0]-point_b[0])**2 + (point_a[1]-point_b[1])**2)"
   ]
  },
  {
   "cell_type": "markdown",
   "metadata": {},
   "source": [
    "**PROBLEM**: Write a custom function in pure Python to calculate a Euclidean distance matrix between a list of points; return a quasi-matrix as a pure Python \"list of lists.\""
   ]
  },
  {
   "cell_type": "code",
   "execution_count": 104,
   "metadata": {},
   "outputs": [],
   "source": [
    "def distance_matrix(points):\n",
    "    \"\"\" Function to calculate the point to point distances between a list of points.\n",
    "        Return values in a quasi-\"matrix\" in the pure python form of a list-of-lists.\n",
    "        \n",
    "        Args:      \n",
    "              points      A list of coordinates. For example: [(1,3), (4,9), (5,7)]\n",
    "    \"\"\"\n",
    "    size = len(points)\n",
    "    M = [ [ [] for i in range(size)] for i in range(size)]\n",
    "    for i in range(size):\n",
    "        for j in range(size):\n",
    "            M[i][j] = distance(points[i], points[j])\n",
    "    return M"
   ]
  },
  {
   "cell_type": "markdown",
   "metadata": {},
   "source": [
    "**PROBLEM**: Write a custom function in pure Python to calculate the centroid of a cluster of coordinates."
   ]
  },
  {
   "cell_type": "code",
   "execution_count": 105,
   "metadata": {},
   "outputs": [],
   "source": [
    "def centroid(points):\n",
    "    \"\"\" Function to calculate and return the (x,y) coordinates for the centroid of a list of such (x,y) coordinates.\n",
    "        Args:  \n",
    "              points      A list of coordinates for the cluster. For example: [(1,3), (4,9), (5,7)]\n",
    "    \"\"\"\n",
    "    x, y = zip(*points)\n",
    "    avg_x = sum(x)/len(x)\n",
    "    avg_y = sum(y)/len(x)\n",
    "    return (avg_x, avg_y)"
   ]
  },
  {
   "cell_type": "markdown",
   "metadata": {},
   "source": [
    "**PROBLEM**: Write a custom function in pure Python to calculate the Euclidean distance between the closest points between two different clusters."
   ]
  },
  {
   "cell_type": "code",
   "execution_count": 106,
   "metadata": {},
   "outputs": [],
   "source": [
    "def separation(cluster_a, cluster_b):\n",
    "    \"\"\" Function to calculate and return the Euclidean distance between the closest points between two different clusters.\n",
    "        \n",
    "        Args:  \n",
    "              points      A list of coordinates for the cluster. For example: [(1,3), (4,9), (5,7)]\n",
    "    \"\"\"\n",
    "    sep = None\n",
    "    for point_a in cluster_a:\n",
    "        for point_b in cluster_b:\n",
    "            dist = distance(point_a, point_b)\n",
    "            if sep is None:\n",
    "                sep = dist\n",
    "            elif dist < sep:\n",
    "                sep = dist\n",
    "    return sep"
   ]
  },
  {
   "cell_type": "markdown",
   "metadata": {},
   "source": [
    "**PROBLEM**: Write a custom function in pure Python to calculate the distortion of a cluster. Define \"distortion\" as the sum of the squared distances of each point to the centroid of the cluster."
   ]
  },
  {
   "cell_type": "code",
   "execution_count": 107,
   "metadata": {},
   "outputs": [],
   "source": [
    "def distortion(points):\n",
    "    \"\"\" Function to calculate and return the distortion of a cluster. \n",
    "        Distortion is defined as the sum of the squared distances of each point to the centroid of the cluster.\n",
    "        \n",
    "        Args:  \n",
    "              points      A list of coordinates for the cluster. For example: [(1,3), (4,9), (5,7)]\n",
    "    \"\"\"\n",
    "    return sum([distance((x,y), centroid(points))**2 for (x, y) in points])"
   ]
  },
  {
   "cell_type": "markdown",
   "metadata": {},
   "source": [
    "**PROBLEM**:  Use the custom distance_matrix() function coded above to calculate the distance matrix between all observations. Try to print this out in a readable format (optional)."
   ]
  },
  {
   "cell_type": "code",
   "execution_count": 108,
   "metadata": {},
   "outputs": [
    {
     "name": "stdout",
     "output_type": "stream",
     "text": [
      "0.00  1.00  4.00  6.00  4.00  3.61  5.00  \n",
      "1.00  0.00  3.00  5.00  4.12  3.16  4.47  \n",
      "4.00  3.00  0.00  2.00  5.66  3.61  4.12  \n",
      "6.00  5.00  2.00  0.00  7.21  5.00  5.00  \n",
      "4.00  4.12  5.66  7.21  0.00  2.24  3.00  \n",
      "3.61  3.16  3.61  5.00  2.24  0.00  1.41  \n",
      "5.00  4.47  4.12  5.00  3.00  1.41  0.00  \n"
     ]
    }
   ],
   "source": [
    "# Calc and print distance matrix between all observations\n",
    "for row in distance_matrix(data):\n",
    "    line = ''\n",
    "    for value in row:\n",
    "        line += \"{0:.2f}\".format(value) + '  '\n",
    "    print(line)"
   ]
  },
  {
   "cell_type": "markdown",
   "metadata": {},
   "source": [
    "**PROBLEM**: We started with seven \"clusters\" with one observation in each cluster. Now use hierarchical agglomerative clustering to fuse the data together (going from the bottom up). Use the distance matrix above to help you perform this step. You may do it manually (by inspecting the matrix) or you may do it programmatically. Once you decide the proper order of fusing clusters, make variable assignments by updating the code below."
   ]
  },
  {
   "cell_type": "code",
   "execution_count": 109,
   "metadata": {},
   "outputs": [],
   "source": [
    "# Define the next 6 clusters by defining a variable that holds a list of all the points in that cluster\n",
    "ab      =  a    +  b\n",
    "fg      =  f    +  g\n",
    "cd      =  c    +  d\n",
    "efg     =  e    +  fg\n",
    "abcd    =  ab   +  cd\n",
    "abcdefg =  abcd +  efg"
   ]
  },
  {
   "cell_type": "markdown",
   "metadata": {},
   "source": [
    "**PROBLEM**: Summarize the clustering process by printing out values for the items in the cluser, the separation distance between the old relevant clusters before fusing, the internal distortion within the new cluster after fusing, and the members of the new cluster after fusing."
   ]
  },
  {
   "cell_type": "code",
   "execution_count": 110,
   "metadata": {},
   "outputs": [
    {
     "name": "stdout",
     "output_type": "stream",
     "text": [
      " CLUSTER    DISTANCE       DISTORTION      MEMBERS\n",
      "    AB        1.00            0.50         [(1, 1), (2, 1)]\n",
      "    FG        1.41            1.00         [(3, 4), (4, 5)]\n",
      "    CD        2.00            2.00         [(5, 1), (7, 1)]\n",
      "   FGE        2.24            5.33         [(1, 5), (3, 4), (4, 5)]\n",
      "   ABCD       3.00           22.75         [(1, 1), (2, 1), (5, 1), (7, 1)]\n",
      " ABCDEFG      3.16           53.14         [(1, 1), (2, 1), (5, 1), (7, 1), (1, 5), (3, 4), (4, 5)]\n"
     ]
    }
   ],
   "source": [
    "# Print out the following values for each of the clusters with 2 or more observations in them\n",
    "print('CLUSTER'.center(10), 'DISTANCE'.center(10), 'DISTORTION'.center(20), 'MEMBERS')\n",
    "\n",
    "print('AB'.center(10),      \"{0:.2f}\".format(separation(a,b)).center(10),      \"{0:.2f}\".format(distortion(ab)).center(20),      ab)\n",
    "print('FG'.center(10),      \"{0:.2f}\".format(separation(f,g)).center(10),      \"{0:.2f}\".format(distortion(fg)).center(20),      fg)\n",
    "print('CD'.center(10),      \"{0:.2f}\".format(separation(c,d)).center(10),      \"{0:.2f}\".format(distortion(cd)).center(20),      cd)\n",
    "print('FGE'.center(10),     \"{0:.2f}\".format(separation(e,fg)).center(10),     \"{0:.2f}\".format(distortion(efg)).center(20),     efg)\n",
    "print('ABCD'.center(10),    \"{0:.2f}\".format(separation(ab,cd)).center(10),    \"{0:.2f}\".format(distortion(abcd)).center(20),    abcd)\n",
    "print('ABCDEFG'.center(10), \"{0:.2f}\".format(separation(abcd,efg)).center(10), \"{0:.2f}\".format(distortion(abcdefg)).center(20), abcdefg)"
   ]
  },
  {
   "cell_type": "markdown",
   "metadata": {},
   "source": [
    "**PROBLEM**: Plot the data again, but this time also plot a rectangle around each cluster, fusing clusters upward until everything is in just one cluster. TIP: You can use the plot_data() function from before, and the plot_cluster() function below, to help you with the plotting."
   ]
  },
  {
   "cell_type": "code",
   "execution_count": 111,
   "metadata": {},
   "outputs": [],
   "source": [
    "# You can use this function to add an illustrative box around a given cluster of points in a plot\n",
    "def plot_cluster(ax, cluster):\n",
    "    \"\"\" Function to add an illustrative box around a given cluster of points in a plot.\n",
    "    \n",
    "        Args:  \n",
    "              ax        An axis object from calling plt.subplots() in matplotlib\n",
    "              cluster   A list of coordinates for the cluster. For example: [(1,3), (4,9), (5,7)]\n",
    "    \"\"\"\n",
    "    padding = len(cluster)**2 * 0.05\n",
    "    min_x   = min([x for (x,y) in cluster]) - 0.5 - padding\n",
    "    max_x   = max([x for (x,y) in cluster]) - 0.5 + padding\n",
    "    min_y   = min([y for (x,y) in cluster]) - 0.5 - padding\n",
    "    max_y   = max([y for (x,y) in cluster]) - 0.5 + padding\n",
    "    width   = max_x - min_x + 1  \n",
    "    height  = max_y - min_y + 1.25  \n",
    "    ax.add_patch(patches.Rectangle((min_x,min_y), width, height, linewidth=2, edgecolor='r',facecolor='none'))"
   ]
  },
  {
   "cell_type": "code",
   "execution_count": 112,
   "metadata": {},
   "outputs": [
    {
     "data": {
      "image/png": "[encoded data removed]",
      "text/plain": [
       "<Figure size 432x288 with 1 Axes>"
      ]
     },
     "metadata": {},
     "output_type": "display_data"
    }
   ],
   "source": [
    "# Plot the Data and plot a box around each hierarchical cluster\n",
    "fig, ax = plot_data(data, labels, xlim=(-0.5,8.5), ylim=(-0.5,6.5))\n",
    "for cluster in [ab, fg, cd, efg, abcd, abcdefg]:\n",
    "    plot_cluster(ax, cluster)"
   ]
  },
  {
   "cell_type": "markdown",
   "metadata": {},
   "source": [
    "**PROBLEM**: Using the data you have calculated above, now plot a dendogram below. You may do this manually usinge the `images/A3-Fig-2.png` file and editing it in an image editing program (save your edits to that file, and commit changes to your repository). Or try to use special functions in matplot lib to plot it directly."
   ]
  },
  {
   "cell_type": "markdown",
   "metadata": {},
   "source": [
    "<img src=\"images/A3-Dendogram.png\" width=\"800\" height=\"800\" align=\"center\"/>"
   ]
  },
  {
   "cell_type": "markdown",
   "metadata": {},
   "source": [
    "**PROBLEM**: Using your dendogram, report which observations would be grouped together if you had three clusters."
   ]
  },
  {
   "cell_type": "markdown",
   "metadata": {},
   "source": [
    "Cluster 1: ____________ "
   ]
  },
  {
   "cell_type": "markdown",
   "metadata": {},
   "source": [
    "Cluster 2: ____________ "
   ]
  },
  {
   "cell_type": "markdown",
   "metadata": {},
   "source": [
    "Cluster 3: ____________"
   ]
  },
  {
   "cell_type": "markdown",
   "metadata": {},
   "source": [
    "**PROBLEM**: Using your dendogram, report which observations would be grouped together if you had five clusters."
   ]
  },
  {
   "cell_type": "markdown",
   "metadata": {},
   "source": [
    "Cluster 1: ____________ "
   ]
  },
  {
   "cell_type": "markdown",
   "metadata": {},
   "source": [
    "Cluster 2: ____________ "
   ]
  },
  {
   "cell_type": "markdown",
   "metadata": {},
   "source": [
    "Cluster 3: ____________"
   ]
  },
  {
   "cell_type": "markdown",
   "metadata": {},
   "source": [
    "Cluster 4: ____________"
   ]
  },
  {
   "cell_type": "markdown",
   "metadata": {},
   "source": [
    "Cluster 5: ____________"
   ]
  },
  {
   "cell_type": "markdown",
   "metadata": {},
   "source": [
    "# **PART 4**: NOW WE RETURN TO CREDIT DEFAULT PREDICTIONS AS IN ASSIGNMENT 2\n",
    "Repeat the analysis using a logit model. You can start with the code below, as it shows you how to setup, fit, and predict with a logit model in sklearn."
   ]
  },
  {
   "cell_type": "markdown",
   "metadata": {},
   "source": [
    "We now return to the problem of trying to predict the probability of defaulting on a credit card account at a Taiwanese bank. A credit card default happens when a customer fails to pay the minimum due on a credit card bill for more than 6 months. \n",
    "\n",
    "We will use a dataset from a Taiwanese bank with 30,000 observations (Source: *Yeh, I. C., & Lien, C. H. (2009). The comparisons of data mining techniques for the predictive accuracy of probability of default of credit card clients. Expert Systems with Applications, 36(2), 2473-2480.*). Each observation represents an account at the bank at the end of October 2005.  We renamed the variable default_payment_next_month to customer_default. The target variable to predict is `customer_default` -- i.e., whether the customer will default in the following month (1 = Yes or 0 = No). The dataset also includes 23 other explanatory features. \n",
    "\n",
    "Variables are defined as follows:"
   ]
  },
  {
   "cell_type": "markdown",
   "metadata": {},
   "source": [
    "| Feature name     | Variable Type | Description \n",
    "|------------------|---------------|--------------------------------------------------------\n",
    "| customer_default | Binary        | 1 = default in following month; 0 = no default \n",
    "| LIMIT_BAL        | Continuous    | Credit limit   \n",
    "| SEX              | Categorical   | 1 = male; 2 = female\n",
    "| EDUCATION        | Categorical   | 1 = graduate school; 2 = university; 3 = high school; 4 = others\n",
    "| MARRIAGE         | Categorical   | 0 = unknown; 1 = married; 2 = single; 3 = others\n",
    "| AGE              | Continuous    | Age in years  \n",
    "| PAY1             | Categorical   | Repayment status in September, 2005 \n",
    "| PAY2             | Categorical   | Repayment status in August, 2005 \n",
    "| PAY3             | Categorical   | Repayment status in July, 2005 \n",
    "| PAY4             | Categorical   | Repayment status in June, 2005 \n",
    "| PAY5             | Categorical   | Repayment status in May, 2005 \n",
    "| PAY6             | Categorical   | Repayment status in April, 2005 \n",
    "| BILL_AMT1        | Continuous    | Balance in September, 2005  \n",
    "| BILL_AMT2        | Continuous    | Balance in August, 2005  \n",
    "| BILL_AMT3        | Continuous    | Balance in July, 2005  \n",
    "| BILL_AMT4        | Continuous    | Balance in June, 2005 \n",
    "| BILL_AMT5        | Continuous    | Balance in May, 2005  \n",
    "| BILL_AMT6        | Continuous    | Balance in April, 2005  \n",
    "| PAY_AMT1         | Continuous    | Amount paid in September, 2005\n",
    "| PAY_AMT2         | Continuous    | Amount paid in August, 2005\n",
    "| PAY_AMT3         | Continuous    | Amount paid in July, 2005\n",
    "| PAY_AMT4         | Continuous    | Amount paid in June, 2005\n",
    "| PAY_AMT5         | Continuous    | Amount paid in May, 2005\n",
    "| PAY_AMT6         | Continuous    | Amount paid in April, 2005"
   ]
  },
  {
   "cell_type": "markdown",
   "metadata": {},
   "source": [
    "The measurement scale for repayment status is:   \n",
    "\n",
    "    -2 = payment two months in advance   \n",
    "    -1 = payment one month in advance   \n",
    "    0 = pay duly   \n",
    "    1 = payment delay for one month   \n",
    "    2 = payment delay for two months   \n",
    "    3 = payment delay for three months   \n",
    "    4 = payment delay for four months   \n",
    "    5 = payment delay for five months   \n",
    "    6 = payment delay for six months   \n",
    "    7 = payment delay for seven months   \n",
    "    8 = payment delay for eight months   \n",
    "    9 = payment delay for nine months or more  "
   ]
  },
  {
   "cell_type": "markdown",
   "metadata": {},
   "source": [
    "### **Setup AGAIN**  "
   ]
  },
  {
   "cell_type": "markdown",
   "metadata": {},
   "source": [
    "We purposefully have two different setup sections for this assignment. In the sections above you could not use sklearn, so we did not want to import those libraries. Now you CAN use sklearn.\n",
    "\n",
    "**From now on in this assignment, you CAN use sklearn !**"
   ]
  },
  {
   "cell_type": "markdown",
   "metadata": {},
   "source": [
    "### Imports"
   ]
  },
  {
   "cell_type": "code",
   "execution_count": 113,
   "metadata": {},
   "outputs": [],
   "source": [
    "# Standard imports\n",
    "import numpy  as np\n",
    "import pandas as pd\n",
    "import tensorflow as tf\n",
    "from tensorflow import keras\n",
    "\n",
    "import itertools\n",
    "import pandas_profiling\n",
    "\n",
    "# Plotting\n",
    "import matplotlib.pyplot as plt\n",
    "from matplotlib.colors import ListedColormap\n",
    "%matplotlib inline  \n",
    "import seaborn as sns\n",
    "sns.set(style=\"white\")\n",
    "\n",
    "# scikit-learn\n",
    "from sklearn.dummy           import DummyClassifier\n",
    "from sklearn.linear_model    import LogisticRegression\n",
    "from sklearn.svm             import SVC\n",
    "from sklearn.neighbors       import KNeighborsClassifier\n",
    "from sklearn.tree            import DecisionTreeClassifier\n",
    "from sklearn.ensemble        import RandomForestClassifier\n",
    "from sklearn.ensemble        import GradientBoostingClassifier\n",
    "\n",
    "# Supporting functions from scikit-learn\n",
    "from sklearn.metrics         import confusion_matrix\n",
    "from sklearn.metrics         import roc_curve\n",
    "from sklearn.metrics         import roc_auc_score\n",
    "from sklearn.pipeline        import Pipeline\n",
    "from sklearn.preprocessing   import StandardScaler\n",
    "from sklearn.model_selection import train_test_split\n",
    "from sklearn.tree            import export_graphviz\n",
    "from sklearn.decomposition   import PCA\n",
    "\n",
    "# ignore some warnings \n",
    "import warnings\n",
    "warnings.filterwarnings('ignore')"
   ]
  },
  {
   "cell_type": "markdown",
   "metadata": {},
   "source": [
    "### Constants"
   ]
  },
  {
   "cell_type": "code",
   "execution_count": 114,
   "metadata": {},
   "outputs": [],
   "source": [
    "# Set a seed for replication\n",
    "SEED = 1"
   ]
  },
  {
   "cell_type": "markdown",
   "metadata": {},
   "source": [
    "### Custom Functions"
   ]
  },
  {
   "cell_type": "markdown",
   "metadata": {},
   "source": [
    "We will also define a few \"helper functions\" to automate repetitive tasks that we will perform below."
   ]
  },
  {
   "cell_type": "code",
   "execution_count": 115,
   "metadata": {},
   "outputs": [],
   "source": [
    "def plot_confusion_matrix(cm, classes=[0,1], normalize=False, title='Confusion Matrix', cmap=plt.cm.Reds):\n",
    "    \"\"\" \n",
    "    Function to plot a sklearn confusion matrix, showing number of cases per prediction condition \n",
    "    \n",
    "    Args:\n",
    "        cm         an sklearn confusion matrix\n",
    "        classes    levels of the class being predicted; default to binary outcome\n",
    "        normalize  apply normalization by setting `normalize=True`\n",
    "        title      title for the plot\n",
    "        cmap       color map\n",
    "    \"\"\"\n",
    "    plt.imshow(cm, interpolation='nearest', cmap=cmap)\n",
    "    plt.title(title)\n",
    "    plt.colorbar()\n",
    "    tick_marks = np.arange(len(classes))\n",
    "    plt.xticks(tick_marks, classes, rotation=45)\n",
    "    plt.yticks(tick_marks, classes)\n",
    "    if normalize:\n",
    "        cm = cm.astype('float') / cm.sum(axis=1)[:, np.newaxis]\n",
    "    thresh = cm.max() / 2.0\n",
    "    for i, j in itertools.product(range(cm.shape[0]), range(cm.shape[1])):\n",
    "        plt.text(j, i, round (cm[i, j],2), horizontalalignment=\"center\",\n",
    "                 color=\"white\" if cm[i, j] > thresh else \"black\")\n",
    "    plt.tight_layout()\n",
    "    plt.ylabel('Actual label')\n",
    "    plt.xlabel('Predicted label')"
   ]
  },
  {
   "cell_type": "code",
   "execution_count": 116,
   "metadata": {},
   "outputs": [],
   "source": [
    "def plot_roc(fpr, tpr, title='ROC Curve', note=''):\n",
    "    \"\"\"\n",
    "    Function to plot an ROC curve in a consistent way.\n",
    "    \n",
    "    Args:\n",
    "        fpr        False Positive Rate (list of multiple points)\n",
    "        tpr        True Positive Rate (list of multiple points)\n",
    "        title      Title above the plot\n",
    "        note       Note to display in the bottom-right of the plot\n",
    "    \"\"\"\n",
    "    plt.figure(1)\n",
    "    plt.plot([0, 1], [0, 1], 'k--')\n",
    "    plt.plot(fpr, tpr)\n",
    "    plt.xlabel('False positive rate')\n",
    "    plt.ylabel('True positive rate')\n",
    "    plt.title(title)\n",
    "    if note: plt.text(0.6, 0.2, note)\n",
    "    plt.show()"
   ]
  },
  {
   "cell_type": "code",
   "execution_count": 117,
   "metadata": {},
   "outputs": [],
   "source": [
    "def print_feature_importance(tree_model, feature_names):\n",
    "    \"\"\"\n",
    "    Function to print a list of features from an sklearn tree model (ranked by importance of the feature)\n",
    "    \n",
    "    Args:\n",
    "        tree_model       A sklearn DecisionTreeClassifier()\n",
    "        feature_names    A list of features used by the DecisionTreeClassifier\n",
    "    \"\"\"\n",
    "    print('Feature'.center(12), '   ',  'Importance')\n",
    "    print('=' * 30)\n",
    "    for index in reversed(np.argsort(tree_model.feature_importances_)):\n",
    "        print(str(feature_names[index]).center(12) , '   ', '{0:.4f}'.format(tree_model.feature_importances_[index]).center(8)) "
   ]
  },
  {
   "cell_type": "markdown",
   "metadata": {},
   "source": [
    "### **Load and Preprocess Data**"
   ]
  },
  {
   "cell_type": "code",
   "execution_count": 118,
   "metadata": {},
   "outputs": [],
   "source": [
    "# Load Data\n",
    "data = pd.read_csv('data/credit_data.csv')\n",
    "\n",
    "# One-hot-encode SEX and MARRIAGE  \n",
    "data = pd.get_dummies(data = data, columns = ['SEX', 'MARRIAGE'])\n",
    "\n",
    "# Drop the ID column\n",
    "data = data.drop(columns = ['ID'], axis = 1)\n",
    "\n",
    "# Sort Columns alphabetically\n",
    "data = data.reindex(sorted(data.columns), axis=1)\n",
    "\n",
    "# Move target variable to first column (not necessary, but easier to see)\n",
    "data = data.set_index('customer_default').reset_index() \n",
    "\n",
    "# Select target\n",
    "y = np.array(data['customer_default'])\n",
    "\n",
    "# Select features \n",
    "features = list(set(list(data.columns)) - set(['customer_default']))\n",
    "X = data.loc[:, features]"
   ]
  },
  {
   "cell_type": "markdown",
   "metadata": {},
   "source": [
    "## A Discussion of Models and Results from Assignment 2..."
   ]
  },
  {
   "cell_type": "markdown",
   "metadata": {},
   "source": [
    "What might we do to improve our prediction models from Assignment 2?"
   ]
  },
  {
   "cell_type": "markdown",
   "metadata": {},
   "source": [
    "**Accuracy?**"
   ]
  },
  {
   "cell_type": "markdown",
   "metadata": {},
   "source": [
    "**PROBLEM**: Note that the logit model in Assignment 2 did WORSE than the baseline model in Assignment 2 (at least when predicting class labels with a default probability threshold and when evaluated by the total number of errors made by the model). Using accuracy to compare models, however, as two drawbacks for the credit default problem. Describe those problems and potential solutions."
   ]
  },
  {
   "cell_type": "markdown",
   "metadata": {},
   "source": [
    "ANSWER: The two main problems with using accuracy for this dataset are:  \n",
    "\n",
    "  1. The distribution of the target outcome variable is not balanced. Therefore, a model that uniformly predicts that NO customer will default can still get a high accuracy.\n",
    "\n",
    "  2. Different probability thresholds for making a \"positive\" prediction can lead to different performance results in the model. Thus, it may be more sensible to configure the model to predict and use probabilities, instead of directly predicting a label.  \n",
    "  \n",
    "A more useful metric for classification is the \"**Area under the ROC curve**\" (also called the **AUC**). The AUC gives you the probability that a randomly selected customer that is labeled as defaulting will be assigned a higher probability of default than a randomly selected customer that is labeled as NOT defaulting. The AUC also does not suffer from class skewness, and therefore is able to adjust for probabilities directly (instead of the distribution of class labels). But in Assignment 2, how did the AUC scores actually compare...?  "
   ]
  },
  {
   "cell_type": "markdown",
   "metadata": {},
   "source": [
    "**PROBLEM**: When do we need to standardize data?"
   ]
  },
  {
   "cell_type": "markdown",
   "metadata": {},
   "source": [
    "ANSWER: It is not necessary to normalize or standardize data for linear models when there is no regularization or special optimization procedure involved. Estimated coefficients will adjust to non-normalized data and the accuracy of the prediction will not be affected. That however will change for some of the upcoming models."
   ]
  },
  {
   "cell_type": "markdown",
   "metadata": {},
   "source": [
    "**PROBLEM**: When do we need to use a _Pipeline_? (And what is an sklearn Pipeline, anyway?) TIP: You will need to do some self-directed learning about pipelines in sklearn..."
   ]
  },
  {
   "cell_type": "markdown",
   "metadata": {},
   "source": [
    "ANSWER: Regularized models and other, more-complex models often require **standardized data** to work properly. However, you cannot standardize all of the data up-front in the beginning; if you do, then information will \"leak\" from the training data into the testing data because the standardization will reflect both datasets. You therefore need a special way to process data and models so that processing steps can be defined up-front, but run later on only the relevant sub-section of data. You accomplish that by using a late-execution \"**pipeline**.\""
   ]
  },
  {
   "cell_type": "markdown",
   "metadata": {},
   "source": [
    "**PROBLEM**: Was our training/testing method in Assignment 2 robust? What would make it more robust?"
   ]
  },
  {
   "cell_type": "markdown",
   "metadata": {},
   "source": [
    "ANSWER: One concern with the previous training/testing approach is that the relative performance of the baseline model and the Logit model might depend on the particular training/testing split in the data that was performed. In a more advanced analysis, we might use k-fold cross-validation for a more reliable testing estimate. Another concern with the previous training/testing approach arises when we need to \"tune\" a model with a hyper-parameter for better performance. In that case, hyper-parameter tuning would pick up information from the testing data and overfit the model. In the models that follow, we will need to tune hyper-parameters, so we will now need to change our testing strategy and generate three data splits: **training** (60%), **validation** (20%) and **test** (20%). We can do this by first splitting a training/testing set 80/20, and then further split the training set into a smaller training set and a validation set. The terminology for these sets can be confusing (and different resources use different names for the sets), but in this example we will create a \"Validation Set\" that pulls from what was originally part of the training set. Most importantly, one should set aside a testing set that is *never used* until the very final test."
   ]
  },
  {
   "cell_type": "markdown",
   "metadata": {},
   "source": [
    "**PROBLEM**: For all of the problems that follow, divide the data into three parts:  **training** (60%), **validation** (20%) and **test** (20%). In the python code, refer to those subsets as: \n",
    "\n",
    "| Subset      |  Pct.  |  X code var     | Target code var |\n",
    "|-------------|--------|-----------------|-----------------|\n",
    "| training    |  60%   |  X_train_train  | y_train_train\n",
    "| validation  |  20%   | X_train_val     | y_train_val\n",
    "| testing     |  20%   | X_test          | y_test\n"
   ]
  },
  {
   "cell_type": "code",
   "execution_count": 119,
   "metadata": {},
   "outputs": [],
   "source": [
    "# Use the sklearn train_test_split() function to split data into \"train\", \"validation\", and \"test\" \n",
    "X_train, X_test, y_train, y_test = train_test_split(X, y, test_size=0.2, stratify=y, random_state=SEED)\n",
    "X_train_train, X_train_val, y_train_train, y_train_val = train_test_split(X_train, y_train, test_size=0.25, stratify=y_train, random_state=SEED)\n"
   ]
  },
  {
   "cell_type": "markdown",
   "metadata": {},
   "source": [
    "# **PART 5**: Logit Model with L1 Regularization (\"Lasso\")\n",
    "Predict credit default using a logit model. We give you a start with the code below, as it shows you how to setup, fit, and predict with a pipeline in sklearn."
   ]
  },
  {
   "cell_type": "code",
   "execution_count": 120,
   "metadata": {},
   "outputs": [
    {
     "data": {
      "text/plain": [
       "Pipeline(memory=None,\n",
       "     steps=[('standardize', StandardScaler(copy=True, with_mean=True, with_std=True)), ('logit_model_l1', LogisticRegression(C=1.0, class_weight=None, dual=False, fit_intercept=True,\n",
       "          intercept_scaling=1, max_iter=100, multi_class='warn',\n",
       "          n_jobs=None, penalty='l1', random_state=None, solver='warn',\n",
       "          tol=0.0001, verbose=0, warm_start=False))])"
      ]
     },
     "execution_count": 120,
     "metadata": {},
     "output_type": "execute_result"
    }
   ],
   "source": [
    "# Build pipeline   \n",
    "estimators = []\n",
    "estimators.append(('standardize', StandardScaler()))         # tell it to standardize features\n",
    "estimators.append(('logit_model_l1', LogisticRegression()))  # tell it to use a logit model\n",
    "pipeline = Pipeline(estimators) \n",
    "pipeline.set_params(logit_model_l1__penalty='l1')            # tell it to regularize with L1 norm"
   ]
  },
  {
   "cell_type": "markdown",
   "metadata": {},
   "source": [
    "Tune for the optimal amount of regularization (the tuning parameter `c` in sklearn). We will again give you this code to show you the general pattern for how to setup hyper-parameter tuning in sklearn."
   ]
  },
  {
   "cell_type": "code",
   "execution_count": 121,
   "metadata": {},
   "outputs": [],
   "source": [
    "# Tune C  \n",
    "results = []\n",
    "for c in np.logspace(-4, 5, 10):\n",
    "    pipeline.set_params(logit_model_l1__C=c) \n",
    "    pipeline.fit(X_train_train,y_train_train)\n",
    "    y_train_pred = pipeline.predict_proba(X_train_val)       # use validation set during hyper-parameter tuning\n",
    "    auc_lml1 = roc_auc_score(y_train_val, y_train_pred[:,1])   \n",
    "    results.append( (auc_lml1, c)  )\n",
    "logit_model_l1 = pipeline.named_steps['logit_model_l1']      # capture model so we can use it later"
   ]
  },
  {
   "cell_type": "markdown",
   "metadata": {},
   "source": [
    "**PROBLEM**: Make a table of the results from hyper-parameter tuning so you can inspect them. "
   ]
  },
  {
   "cell_type": "code",
   "execution_count": 122,
   "metadata": {},
   "outputs": [
    {
     "name": "stdout",
     "output_type": "stream",
     "text": [
      "     C             AUC    \n",
      " =========================\n",
      "      0.0001      0.5000 \n",
      "      0.0010      0.6892 \n",
      "      0.0100      0.7159 \n",
      "      0.1000      0.7202 \n",
      "      1.0000      0.7211 \n",
      "     10.0000      0.7212 \n",
      "    100.0000      0.7212 \n",
      "   1000.0000      0.7212 \n",
      "  10000.0000      0.7212 \n",
      " 100000.0000      0.7212 \n"
     ]
    }
   ],
   "source": [
    "# View results \n",
    "print('C'.center(12), '   ', 'AUC'.center(8), '\\n', '=' * 25)\n",
    "for (auc, c) in results:\n",
    "    print('{0:.4f}'.format(c).rjust(12), '   ',  '{0:.4f}'.format(auc).center(8))"
   ]
  },
  {
   "cell_type": "markdown",
   "metadata": {},
   "source": [
    "**PROBLEM**: Pick what you believe to be the \"best\" value for c. Justify your selection. "
   ]
  },
  {
   "cell_type": "code",
   "execution_count": 123,
   "metadata": {},
   "outputs": [],
   "source": [
    "# Select best C  \n",
    "best_C = 0.100    "
   ]
  },
  {
   "cell_type": "markdown",
   "metadata": {},
   "source": [
    "ANSWER: The \"best\" C does not have to have the highest AUC. One might want to select a lower C with a slightly lower AUC so Lasso will find a simpler model -- and simpler models are generally believed to generalize better, so it is best to error on the side of simplicity."
   ]
  },
  {
   "cell_type": "markdown",
   "metadata": {},
   "source": [
    "**PROBLEM**: Test the final model, using the selected best value for C. Report the final testing score and plot the ROC."
   ]
  },
  {
   "cell_type": "code",
   "execution_count": 124,
   "metadata": {},
   "outputs": [
    {
     "data": {
      "image/png": "[encoded data removed]",
      "text/plain": [
       "<Figure size 432x288 with 1 Axes>"
      ]
     },
     "metadata": {},
     "output_type": "display_data"
    }
   ],
   "source": [
    "# Test final model \n",
    "pipeline.set_params(logit_model_l1__C=best_C)\n",
    "pipeline.fit(X_train,y_train)\n",
    "y_prob_logit_lasso = pipeline.predict_proba(X_test)\n",
    "fpr_logit_lasso, tpr_logit_lasso, _ = roc_curve(y_test, y_prob_logit_lasso[:, 1])\n",
    "best_auc_logit_lasso = roc_auc_score(y_test, y_prob_logit_lasso[:,1])\n",
    "plot_roc(fpr_logit_lasso, tpr_logit_lasso, 'ROC Curve for L1 Regularized Logit Model', 'AUC = %2.4f' % best_auc_logit_lasso)"
   ]
  },
  {
   "cell_type": "markdown",
   "metadata": {},
   "source": [
    "**PROBLEM**: Compare coefficients between a standard logit model and a regularized logit model, to see how Lasso drops predictors."
   ]
  },
  {
   "cell_type": "code",
   "execution_count": 125,
   "metadata": {},
   "outputs": [
    {
     "name": "stdout",
     "output_type": "stream",
     "text": [
      "   REGULARIZATION       NONE        L1    \n",
      "==================================================\n",
      "       PAY_3             0.0907     0.0815\n",
      "       PAY_4             0.0001     0.0371\n",
      "     BILL_AMT1          -0.4226 \n",
      "      PAY_AMT2          -0.3393 \n",
      "     MARRIAGE_1          0.0473     0.0318\n",
      "       PAY_5             0.0410     0.0360\n",
      "        AGE              0.0632     0.0511\n",
      "     LIMIT_BAL          -0.0984 \n",
      "     BILL_AMT6           0.0175 \n",
      "     MARRIAGE_3          0.0034 \n",
      "     MARRIAGE_0         -0.0667 \n",
      "      PAY_AMT1          -0.3159 \n",
      "     BILL_AMT2           0.2284     0.0366\n",
      "      PAY_AMT6          -0.0187 \n",
      "       PAY_2             0.1120     0.0967\n",
      "     EDUCATION          -0.0615 \n",
      "     MARRIAGE_2         -0.0415 \n",
      "      PAY_AMT5          -0.0650 \n",
      "       SEX_2            -0.0261 \n",
      "     BILL_AMT5          -0.0026     0.0218\n",
      "       SEX_1             0.0261     0.0084\n",
      "      PAY_AMT4          -0.0350 \n",
      "       PAY_6             0.0053 \n",
      "     BILL_AMT4           0.0122     0.0026\n",
      "      PAY_AMT3          -0.0408 \n",
      "       PAY_1             0.6466     0.6518\n",
      "     BILL_AMT3           0.0885     0.0717\n"
     ]
    }
   ],
   "source": [
    "# Compare coefficients between a standard logit model and a regularized logit model, to see how Lasso drops predictors\n",
    "logit_model = Pipeline([('s', StandardScaler()), ('m', LogisticRegression(penalty='l2', C = 1e10))]).fit(X_train_train, y_train_train).named_steps['m']\n",
    "print('REGULARIZATION'.center(20), 'NONE'.center(10), 'L1'.center(10))\n",
    "print('=' * 50)\n",
    "for (varname, lm_coef, lml1_coef) in zip(features, logit_model.coef_[0], logit_model_l1.coef_[0]):\n",
    "    lm_coeff  = \"{0:.4f}\".format(lm_coef).rjust(10)\n",
    "    lml1_coef = \"{0:.4f}\".format(lml1_coef).rjust(10) if lml1_coef > 0.0001 else \"\"\n",
    "    print(str(varname).center(20), lm_coeff, lml1_coef)"
   ]
  },
  {
   "cell_type": "markdown",
   "metadata": {},
   "source": [
    "**PROBLEM**: Comment on which predictors dropped, and why. HINT: Maybe plot a fast-and-rough correlation matrix to test a hunch if you have a hunch."
   ]
  },
  {
   "cell_type": "code",
   "execution_count": 126,
   "metadata": {},
   "outputs": [
    {
     "name": "stdout",
     "output_type": "stream",
     "text": [
      "customer_default                1.000\n",
      "PAY_1                           0.325\n",
      "PAY_2                           0.264\n",
      "PAY_3                           0.235\n",
      "PAY_4                           0.217\n",
      "PAY_5                           0.204\n",
      "PAY_6                           0.187\n",
      "LIMIT_BAL                      -0.153\n",
      "PAY_AMT1                       -0.073\n",
      "PAY_AMT2                       -0.059\n",
      "PAY_AMT4                       -0.057\n",
      "PAY_AMT3                       -0.056\n",
      "PAY_AMT5                       -0.055\n",
      "PAY_AMT6                       -0.053\n",
      "SEX_2                          -0.040\n",
      "SEX_1                           0.040\n",
      "MARRIAGE_2                     -0.031\n",
      "MARRIAGE_1                      0.030\n",
      "EDUCATION                       0.028\n",
      "BILL_AMT1                      -0.020\n",
      "BILL_AMT2                      -0.014\n",
      "BILL_AMT3                      -0.014\n",
      "AGE                             0.014\n",
      "MARRIAGE_0                     -0.013\n",
      "BILL_AMT4                      -0.010\n",
      "MARRIAGE_3                      0.010\n",
      "BILL_AMT5                      -0.007\n",
      "BILL_AMT6                      -0.005\n"
     ]
    }
   ],
   "source": [
    "# Compute correlations  \n",
    "correlations = {}\n",
    "for column in data.columns:\n",
    "    correlations[column] = data[column].corr(data['customer_default']) \n",
    "    \n",
    "# Make sorted list by absolute value\n",
    "corr_list = [ (abs(value), key) for key, value in correlations.items() ]\n",
    "    \n",
    "# Print correlations in rank order descending\n",
    "for value, column in sorted(corr_list, reverse=True):\n",
    "    print(str(column).ljust(30), \"{0:.3f}\".format(round(correlations[column],4)).rjust(6))"
   ]
  },
  {
   "cell_type": "markdown",
   "metadata": {},
   "source": [
    "ANSWER: PAY_1, PAY_2, PAY_3, PAY_4, PAY_5 and PAY_6 are the most highly correlated features to the target variable `customer_default`. It therefore is not surprising that the regularized Lasso model gave those predictors the most weight. Note, however, that Lasso quickly deflates the importance of each subsequent PAY variable -- most likely because those are highly correlated to each other, and thus duplicating the signal. Note also that many of the BILL_AMT features, the PAY_AMT features, and the MARRIAGE_ features are dropped out by lasso, again because they likely duplicate information."
   ]
  },
  {
   "cell_type": "markdown",
   "metadata": {},
   "source": [
    "# **PART 6**: PCA\n",
    "As an interesting learning exercise, visualize ALL your data in 2 dimensions using PCA. PCA is only able to capture linear variations in the data. For non-linear projections, one could also use T-SNE. However, T-SNE has more tunable parameters compared to PCA."
   ]
  },
  {
   "cell_type": "markdown",
   "metadata": {},
   "source": [
    "**PROBLEM**: Use the sklearn StandardScaler() to standardize all of your features."
   ]
  },
  {
   "cell_type": "code",
   "execution_count": 127,
   "metadata": {},
   "outputs": [],
   "source": [
    "# Standardize ALL features\n",
    "standard_scalar = StandardScaler()\n",
    "features_std = standard_scalar.fit_transform(X)"
   ]
  },
  {
   "cell_type": "markdown",
   "metadata": {},
   "source": [
    "**PROBLEM**: Use the sklearn PCA() function to project ALL features into just two dimensions."
   ]
  },
  {
   "cell_type": "code",
   "execution_count": 128,
   "metadata": {},
   "outputs": [],
   "source": [
    "# Project features into two dimensions\n",
    "pca = PCA(n_components=2)\n",
    "features_std_pca = pca.fit_transform(features_std)"
   ]
  },
  {
   "cell_type": "markdown",
   "metadata": {},
   "source": [
    "**PROBLEM**: Explore the relationship between the AUC from a standard Logit Model (withOUT using Lasso) and the number of PCA Component Features being used as predictors in the model. In other words, build a `for` loop that tries many numbers of components from PCA in a basic Logit Model.  \n",
    "\n",
    "Hint: you will need to use code like the following in order to build up a pipeline comprised of the StandardScaler(), PCA(), and LogisticRegression() steps.\n",
    "\n",
    "    estimators = []\n",
    "    estimators.append(('standardize', StandardScaler()))\n",
    "    estimators.append(('pca', PCA()))\n",
    "    estimators.append(('model', LogisticRegression()))\n",
    "    pipeline = Pipeline(estimators)\n",
    "    "
   ]
  },
  {
   "cell_type": "code",
   "execution_count": 129,
   "metadata": {},
   "outputs": [
    {
     "name": "stdout",
     "output_type": "stream",
     "text": [
      "    1 component   AUC = 0.5722\n",
      "    2 component   AUC = 0.6831\n",
      "    3 component   AUC = 0.6867\n",
      "    4 component   AUC = 0.6866\n",
      "    5 component   AUC = 0.6948\n",
      "    6 component   AUC = 0.6944\n",
      "    7 component   AUC = 0.6965\n",
      "    8 component   AUC = 0.6980\n",
      "    9 component   AUC = 0.7003\n",
      "   10 component   AUC = 0.7017\n"
     ]
    }
   ],
   "source": [
    "# Explore and print out results for the relationship between AUC and the number of PCA Component Features\n",
    "x_results = []\n",
    "y_results = []\n",
    "for n in range(1, 11):\n",
    "    estimators = []\n",
    "    estimators.append(('standardize', StandardScaler()))\n",
    "    estimators.append(('pca', PCA()))\n",
    "    estimators.append(('model', LogisticRegression()))\n",
    "    pipeline = Pipeline(estimators)\n",
    "    pipeline.set_params(pca__n_components = n)\n",
    "    pipeline.set_params(pca__random_state = SEED)\n",
    "\n",
    "    # Performance of the tuned model on test set\n",
    "    pipeline.fit(X_train, y_train)\n",
    "    y_hat = pipeline.predict_proba(X_test)\n",
    "    auc = roc_auc_score(y_test, y_hat[:,1])\n",
    "    print('{} component'.format(n).rjust(15), '  AUC = {0:.4f}'.format(auc))\n",
    "    x_results.append(n)\n",
    "    y_results.append(auc)"
   ]
  },
  {
   "cell_type": "markdown",
   "metadata": {},
   "source": [
    "**PROBLEM**: Plot your incremental results (increasing levels of components) from the steps above."
   ]
  },
  {
   "cell_type": "code",
   "execution_count": 130,
   "metadata": {},
   "outputs": [
    {
     "data": {
      "image/png": "[encoded data removed]",
      "text/plain": [
       "<Figure size 432x288 with 1 Axes>"
      ]
     },
     "metadata": {},
     "output_type": "display_data"
    }
   ],
   "source": [
    "plt.figure(1)\n",
    "plt.plot(x_results, y_results)\n",
    "plt.xlabel('Number of PCA Components')\n",
    "plt.ylabel('AUC')\n",
    "plt.title('Relationship between AUC and number of PCA Components')\n",
    "plt.show()"
   ]
  },
  {
   "cell_type": "markdown",
   "metadata": {},
   "source": [
    "# **PART 7**:  K-Nearest Neighbors (KNN)"
   ]
  },
  {
   "cell_type": "markdown",
   "metadata": {},
   "source": [
    "Again to help you get going, we will set up a basic pipeline for hyperparameter tuning K for you..."
   ]
  },
  {
   "cell_type": "code",
   "execution_count": 131,
   "metadata": {},
   "outputs": [],
   "source": [
    "# Build pipeline\n",
    "estimators = []\n",
    "estimators.append(('standardize', StandardScaler()))\n",
    "estimators.append(('knn_model', KNeighborsClassifier()))\n",
    "pipeline = Pipeline(estimators) "
   ]
  },
  {
   "cell_type": "markdown",
   "metadata": {},
   "source": [
    "**PROBLEM**: Tune the KNN model to find the optimal K."
   ]
  },
  {
   "cell_type": "code",
   "execution_count": 132,
   "metadata": {},
   "outputs": [
    {
     "name": "stdout",
     "output_type": "stream",
     "text": [
      "    K       AUC    \n",
      " ====================\n",
      "    5      0.6971 \n",
      "   15      0.7371 \n",
      "   25      0.7435 \n",
      "   35      0.7460 \n",
      "   45      0.7472 \n",
      "   55      0.7484 \n",
      "   65      0.7472 \n",
      "   75      0.7462 \n",
      "   85      0.7485 \n",
      "   95      0.7476 \n"
     ]
    }
   ],
   "source": [
    "# Tune K\n",
    "results = []\n",
    "for k in range(5, 100, 10):\n",
    "    pipeline.set_params(knn_model__n_neighbors=k) \n",
    "    pipeline.fit(X_train_train,y_train_train)\n",
    "    y_hat = pipeline.predict_proba(X_train_val)\n",
    "    auc = roc_auc_score(y_train_val, y_hat[:,1])\n",
    "    results.append( (auc, k) )\n",
    "    \n",
    "# View results \n",
    "print('K'.rjust(5), '   ', 'AUC'.center(8), '\\n', '=' * 20)\n",
    "for (auc, k) in results:\n",
    "    print('{0}'.format(k).rjust(5), '   ',  '{0:.4f}'.format(auc).center(8))    "
   ]
  },
  {
   "cell_type": "markdown",
   "metadata": {},
   "source": [
    "**PROBLEM**: What was the best K?"
   ]
  },
  {
   "cell_type": "code",
   "execution_count": 133,
   "metadata": {},
   "outputs": [
    {
     "name": "stdout",
     "output_type": "stream",
     "text": [
      "Best value of K = 85, with AUC = 0.7485\n"
     ]
    }
   ],
   "source": [
    "# Select best K\n",
    "best_K = sorted(results)[-1][1]\n",
    "auc = sorted(results)[-1][0]\n",
    "print('Best value of K = %d, with AUC = %2.4f' % (best_K, auc))"
   ]
  },
  {
   "cell_type": "markdown",
   "metadata": {},
   "source": [
    "**PROBLEM**: Test your final model and report the AUC."
   ]
  },
  {
   "cell_type": "code",
   "execution_count": 134,
   "metadata": {},
   "outputs": [
    {
     "name": "stdout",
     "output_type": "stream",
     "text": [
      "KNN Model: Final test score for K = 85 has AUC = 0.7538\n"
     ]
    }
   ],
   "source": [
    "# Test final model \n",
    "pipeline.set_params(knn_model__n_neighbors = best_K)\n",
    "pipeline.fit(X_train, y_train)\n",
    "y_hat_knn = pipeline.predict_proba(X_test)\n",
    "fpr_knn, tpr_knn, _ = roc_curve(y_test, y_hat_knn[:, 1])\n",
    "best_auc_knn = roc_auc_score(y_test, y_hat_knn[:,1])\n",
    "print('KNN Model: Final test score for K = %d has AUC = %2.4f' % (best_K, best_auc_knn))"
   ]
  },
  {
   "cell_type": "code",
   "execution_count": 135,
   "metadata": {},
   "outputs": [
    {
     "data": {
      "image/png": "[encoded data removed]",
      "text/plain": [
       "<Figure size 432x288 with 1 Axes>"
      ]
     },
     "metadata": {},
     "output_type": "display_data"
    }
   ],
   "source": [
    "# Plot ROC\n",
    "plot_roc(fpr_knn, tpr_knn, 'ROC Curve for KNN Model', 'K = %d \\n\\nAUC = %2.4f' % (best_K, best_auc_knn))"
   ]
  },
  {
   "cell_type": "markdown",
   "metadata": {},
   "source": [
    "# **PART 8**: Decision Trees\n",
    "\n",
    "Unlike a logit model or a KNN classifier, decision trees are not sensitive to the scaling of categorical features and numeric features. They can find a cut point in arbitrary numeric or categorical features. The implementation of decision trees in sklearn, however, does require categorical features to be one-hot-encoded, even though that is technically not required by the algorithm."
   ]
  },
  {
   "cell_type": "markdown",
   "metadata": {},
   "source": [
    "**PROBLEM**: Fit just one tree using the `DecisionTreeClassifier()` function from sklearn. There is no need to use a pipeline for this step, as it is just one tree."
   ]
  },
  {
   "cell_type": "code",
   "execution_count": 136,
   "metadata": {},
   "outputs": [],
   "source": [
    "# Fit a one-tree Model      \n",
    "tree_model = DecisionTreeClassifier(random_state = SEED)  # just one tree, so no pipeline needed\n",
    "tree_model.fit(X_train, y_train)\n",
    "pass  # skip showing the model internals"
   ]
  },
  {
   "cell_type": "markdown",
   "metadata": {},
   "source": [
    "**PROBLEM**: Test the model and report the AUC. HINT: Make sure you are using the test sets every time you do a final test!"
   ]
  },
  {
   "cell_type": "code",
   "execution_count": 137,
   "metadata": {},
   "outputs": [
    {
     "name": "stdout",
     "output_type": "stream",
     "text": [
      "One Decision Tree Model: Final test score has AUC = 0.6153\n"
     ]
    }
   ],
   "source": [
    "# Test model\n",
    "y_hat_tree = tree_model.predict_proba(X_test)\n",
    "fpr_tree, tpr_tree, _ = roc_curve(y_test, y_hat_tree[:, 1])\n",
    "auc_one_tree = roc_auc_score(y_test, y_hat_tree[:,1])\n",
    "print('One Decision Tree Model: Final test score has AUC = {0:0.4f}'.format(auc_one_tree))"
   ]
  },
  {
   "cell_type": "markdown",
   "metadata": {},
   "source": [
    "**PROBLEM**: Plot the resulting ROC."
   ]
  },
  {
   "cell_type": "code",
   "execution_count": 138,
   "metadata": {},
   "outputs": [
    {
     "data": {
      "image/png": "[encoded data removed]",
      "text/plain": [
       "<Figure size 432x288 with 1 Axes>"
      ]
     },
     "metadata": {},
     "output_type": "display_data"
    }
   ],
   "source": [
    "# Plot the ROC\n",
    "plot_roc(fpr_tree, tpr_tree, 'ROC Curve for One Decision Tree', 'AUC = %2.4f' %  auc_one_tree)"
   ]
  },
  {
   "cell_type": "markdown",
   "metadata": {},
   "source": [
    "**PROBLEM**: Use the `print_feature_importance()` function given to you above to print the relative feature importances of this model."
   ]
  },
  {
   "cell_type": "code",
   "execution_count": 139,
   "metadata": {},
   "outputs": [
    {
     "name": "stdout",
     "output_type": "stream",
     "text": [
      "  Feature        Importance\n",
      "==============================\n",
      "   PAY_1          0.1604 \n",
      "    AGE           0.0743 \n",
      " BILL_AMT1        0.0676 \n",
      "  PAY_AMT3        0.0619 \n",
      " LIMIT_BAL        0.0580 \n",
      "  PAY_AMT6        0.0528 \n",
      " BILL_AMT6        0.0513 \n",
      " BILL_AMT2        0.0504 \n",
      "  PAY_AMT1        0.0483 \n",
      "  PAY_AMT2        0.0455 \n",
      " BILL_AMT3        0.0426 \n",
      "  PAY_AMT5        0.0425 \n",
      " BILL_AMT4        0.0417 \n",
      " BILL_AMT5        0.0406 \n",
      "  PAY_AMT4        0.0352 \n",
      "   PAY_2          0.0349 \n",
      " EDUCATION        0.0208 \n",
      "   PAY_5          0.0104 \n",
      "   PAY_6          0.0104 \n",
      "   PAY_4          0.0102 \n",
      "   PAY_3          0.0099 \n",
      "   SEX_2          0.0073 \n",
      " MARRIAGE_1       0.0072 \n",
      "   SEX_1          0.0069 \n",
      " MARRIAGE_2       0.0064 \n",
      " MARRIAGE_3       0.0017 \n",
      " MARRIAGE_0       0.0008 \n"
     ]
    }
   ],
   "source": [
    "# Print feature importance\n",
    "print_feature_importance(tree_model, features)"
   ]
  },
  {
   "cell_type": "markdown",
   "metadata": {},
   "source": [
    "# **PART 8**: Random Forests\n",
    "\n",
    "Just one tree may be an arbitrary and unreliable model. So next, use the `RandomForestClassifier()` model from sklearn to run a random forest of trees and average across them."
   ]
  },
  {
   "cell_type": "markdown",
   "metadata": {},
   "source": [
    "**PROBLEM**: Build a pipeline for a random forest."
   ]
  },
  {
   "cell_type": "code",
   "execution_count": 140,
   "metadata": {},
   "outputs": [
    {
     "data": {
      "text/plain": [
       "Pipeline(memory=None,\n",
       "     steps=[('forest_model', RandomForestClassifier(bootstrap=True, class_weight=None, criterion='gini',\n",
       "            max_depth=None, max_features='auto', max_leaf_nodes=None,\n",
       "            min_impurity_decrease=0.0, min_impurity_split=None,\n",
       "            min_samples_leaf=1, min_samples_split=2,\n",
       "            min_weight_fraction_leaf=0.0, n_estimators='warn', n_jobs=None,\n",
       "            oob_score=False, random_state=1, verbose=0, warm_start=False))])"
      ]
     },
     "execution_count": 140,
     "metadata": {},
     "output_type": "execute_result"
    }
   ],
   "source": [
    "# Build pipeline\n",
    "estimators = []\n",
    "estimators.append(('forest_model', RandomForestClassifier()))\n",
    "pipeline = Pipeline(estimators)\n",
    "pipeline.set_params(forest_model__random_state=SEED)"
   ]
  },
  {
   "cell_type": "markdown",
   "metadata": {},
   "source": [
    "**PROBLEM**: Tune for N, the number of trees and print out the results so you can find the best N."
   ]
  },
  {
   "cell_type": "code",
   "execution_count": 141,
   "metadata": {},
   "outputs": [
    {
     "name": "stdout",
     "output_type": "stream",
     "text": [
      "    N       AUC    \n",
      " ====================\n",
      "   10      0.7279 \n",
      "   50      0.7589 \n",
      "  150      0.7685 \n",
      "  200      0.7687 \n",
      "  250      0.7699 \n"
     ]
    }
   ],
   "source": [
    "# Tune N   \n",
    "results = []\n",
    "for n in [10, 50, 150, 200, 250]:\n",
    "    pipeline.set_params(forest_model__n_estimators = n) \n",
    "    pipeline.fit(X_train_train, y_train_train)\n",
    "    y_train_pred = pipeline.predict_proba(X_train_val)\n",
    "    auc = roc_auc_score(y_train_val, y_train_pred[:,1])\n",
    "    results.append( (auc, n))\n",
    "\n",
    "# View results \n",
    "print('N'.rjust(5), '   ', 'AUC'.center(8), '\\n', '=' * 20)\n",
    "for (auc, n) in results:\n",
    "    print('{0}'.format(n).rjust(5), '   ',  '{0:.4f}'.format(auc).center(8))   "
   ]
  },
  {
   "cell_type": "markdown",
   "metadata": {},
   "source": [
    "**PROBLEM**: Test the model and report the AUC. HINT: Make sure you are using the test sets every time you do a final test!"
   ]
  },
  {
   "cell_type": "code",
   "execution_count": 142,
   "metadata": {},
   "outputs": [
    {
     "name": "stdout",
     "output_type": "stream",
     "text": [
      "Random Forest Model: Final test score for N = 150 has AUC = 0.7637\n"
     ]
    }
   ],
   "source": [
    "# Test final model\n",
    "best_N = 150   # AUC will generally improve with more interations, but eventually level off\n",
    "pipeline.set_params(forest_model__n_estimators=best_N)\n",
    "pipeline.fit(X_train, y_train)\n",
    "y_hat_forest = pipeline.predict_proba(X_test)\n",
    "fpr_forest, tpr_forest, _ = roc_curve(y_test, y_hat_forest[:, 1])\n",
    "best_auc_forest = roc_auc_score(y_test, y_hat_forest[:,1])\n",
    "print('Random Forest Model: Final test score for N = %d has AUC = %2.4f' % (best_N, best_auc_forest))"
   ]
  },
  {
   "cell_type": "markdown",
   "metadata": {},
   "source": [
    "**PROBLEM**: Plot the resulting ROC."
   ]
  },
  {
   "cell_type": "code",
   "execution_count": 143,
   "metadata": {},
   "outputs": [
    {
     "data": {
      "image/png": "[encoded data removed]",
      "text/plain": [
       "<Figure size 432x288 with 1 Axes>"
      ]
     },
     "metadata": {},
     "output_type": "display_data"
    }
   ],
   "source": [
    "# Plot the ROC\n",
    "plot_roc(fpr_forest, tpr_forest, 'ROC Curve for a Random Forest', 'N = %d \\n\\nAUC = %2.4f' %  (best_N, best_auc_forest))"
   ]
  },
  {
   "cell_type": "markdown",
   "metadata": {},
   "source": [
    "**PROBLEM**: Use the `print_feature_importance()` function given to you above to print the relative feature importances of this model."
   ]
  },
  {
   "cell_type": "code",
   "execution_count": 144,
   "metadata": {},
   "outputs": [
    {
     "name": "stdout",
     "output_type": "stream",
     "text": [
      "  Feature        Importance\n",
      "==============================\n",
      "   PAY_1          0.0962 \n",
      "    AGE           0.0664 \n",
      " BILL_AMT1        0.0604 \n",
      " LIMIT_BAL        0.0593 \n",
      " BILL_AMT2        0.0538 \n",
      " BILL_AMT3        0.0507 \n",
      "  PAY_AMT1        0.0506 \n",
      " BILL_AMT6        0.0497 \n",
      " BILL_AMT4        0.0489 \n",
      " BILL_AMT5        0.0485 \n",
      "  PAY_AMT2        0.0476 \n",
      "  PAY_AMT3        0.0455 \n",
      "  PAY_AMT6        0.0452 \n",
      "   PAY_2          0.0452 \n",
      "  PAY_AMT4        0.0429 \n",
      "  PAY_AMT5        0.0428 \n",
      "   PAY_3          0.0259 \n",
      "   PAY_5          0.0233 \n",
      "   PAY_4          0.0224 \n",
      " EDUCATION        0.0198 \n",
      "   PAY_6          0.0187 \n",
      "   SEX_2          0.0087 \n",
      " MARRIAGE_1       0.0086 \n",
      " MARRIAGE_2       0.0085 \n",
      "   SEX_1          0.0084 \n",
      " MARRIAGE_3       0.0017 \n",
      " MARRIAGE_0       0.0003 \n"
     ]
    }
   ],
   "source": [
    "# Print feature importance\n",
    "forest_model = pipeline.named_steps['forest_model']\n",
    "print_feature_importance(forest_model, features)"
   ]
  }
 ],
 "metadata": {
  "kernelspec": {
   "display_name": "Python 3",
   "language": "python",
   "name": "python3"
  },
  "language_info": {
   "codemirror_mode": {
    "name": "ipython",
    "version": 3
   },
   "file_extension": ".py",
   "mimetype": "text/x-python",
   "name": "python",
   "nbconvert_exporter": "python",
   "pygments_lexer": "ipython3",
   "version": "3.7.2"
  }
 },
 "nbformat": 4,
 "nbformat_minor": 2
}
